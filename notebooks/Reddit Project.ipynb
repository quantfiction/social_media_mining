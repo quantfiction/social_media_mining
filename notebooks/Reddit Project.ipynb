{
 "cells": [
  {
   "cell_type": "markdown",
   "metadata": {},
   "source": [
    "# Introduction\n",
    "Investigation of bitcoin-focused reddit groups"
   ]
  },
  {
   "cell_type": "markdown",
   "metadata": {},
   "source": [
    "### Standard Imports"
   ]
  },
  {
   "cell_type": "code",
   "execution_count": 227,
   "metadata": {
    "ExecuteTime": {
     "end_time": "2019-11-09T23:45:43.645035Z",
     "start_time": "2019-11-09T23:45:43.545020Z"
    }
   },
   "outputs": [
    {
     "data": {
      "text/html": [
       "        <script type=\"text/javascript\">\n",
       "        window.PlotlyConfig = {MathJaxConfig: 'local'};\n",
       "        if (window.MathJax) {MathJax.Hub.Config({SVG: {font: \"STIX-Web\"}});}\n",
       "        if (typeof require !== 'undefined') {\n",
       "        require.undef(\"plotly\");\n",
       "        requirejs.config({\n",
       "            paths: {\n",
       "                'plotly': ['https://cdn.plot.ly/plotly-latest.min']\n",
       "            }\n",
       "        });\n",
       "        require(['plotly'], function(Plotly) {\n",
       "            window._Plotly = Plotly;\n",
       "        });\n",
       "        }\n",
       "        </script>\n",
       "        "
      ]
     },
     "metadata": {},
     "output_type": "display_data"
    },
    {
     "data": {
      "text/html": [
       "        <script type=\"text/javascript\">\n",
       "        window.PlotlyConfig = {MathJaxConfig: 'local'};\n",
       "        if (window.MathJax) {MathJax.Hub.Config({SVG: {font: \"STIX-Web\"}});}\n",
       "        if (typeof require !== 'undefined') {\n",
       "        require.undef(\"plotly\");\n",
       "        requirejs.config({\n",
       "            paths: {\n",
       "                'plotly': ['https://cdn.plot.ly/plotly-latest.min']\n",
       "            }\n",
       "        });\n",
       "        require(['plotly'], function(Plotly) {\n",
       "            window._Plotly = Plotly;\n",
       "        });\n",
       "        }\n",
       "        </script>\n",
       "        "
      ]
     },
     "metadata": {},
     "output_type": "display_data"
    }
   ],
   "source": [
    "# Basic functions\n",
    "import os\n",
    "\n",
    "# Data manipulation\n",
    "import pandas as pd\n",
    "import numpy as np\n",
    "\n",
    "# Options for pandas\n",
    "pd.options.display.max_columns = 50\n",
    "pd.options.display.max_rows = 100\n",
    "\n",
    "# Display all cell outputs\n",
    "from IPython.core.interactiveshell import InteractiveShell\n",
    "InteractiveShell.ast_node_interactivity = 'all'\n",
    "\n",
    "from IPython import get_ipython\n",
    "ipython = get_ipython()\n",
    "\n",
    "# autoreload extension\n",
    "if 'autoreload' not in ipython.extension_manager.loaded:\n",
    "    %load_ext autoreload\n",
    "\n",
    "%autoreload 2\n",
    "\n",
    "# Visualizations\n",
    "import chart_studio.plotly as py\n",
    "import plotly.graph_objs as go\n",
    "from plotly.offline import iplot, init_notebook_mode\n",
    "init_notebook_mode(connected=True)\n",
    "\n",
    "import cufflinks as cf\n",
    "cf.go_offline(connected=True)\n",
    "cf.set_config_file(theme='white')"
   ]
  },
  {
   "cell_type": "markdown",
   "metadata": {},
   "source": [
    "### Specific Imports"
   ]
  },
  {
   "cell_type": "code",
   "execution_count": 3,
   "metadata": {
    "ExecuteTime": {
     "end_time": "2019-11-02T19:01:12.824747Z",
     "start_time": "2019-11-02T19:01:12.751732Z"
    }
   },
   "outputs": [],
   "source": [
    "import bz2, json\n",
    "import psaw\n",
    "from psaw import PushshiftAPI\n",
    "from copy import deepcopy\n",
    "import datetime as dt"
   ]
  },
  {
   "cell_type": "code",
   "execution_count": 4,
   "metadata": {
    "ExecuteTime": {
     "end_time": "2019-11-02T19:01:13.891993Z",
     "start_time": "2019-11-02T19:01:13.810975Z"
    }
   },
   "outputs": [],
   "source": [
    "from tqdm import tqdm_notebook as tqdm, trange"
   ]
  },
  {
   "cell_type": "code",
   "execution_count": 275,
   "metadata": {
    "ExecuteTime": {
     "end_time": "2019-11-10T01:06:30.124208Z",
     "start_time": "2019-11-10T01:06:30.028187Z"
    }
   },
   "outputs": [
    {
     "ename": "ModuleNotFoundError",
     "evalue": "No module named 'social_media'",
     "output_type": "error",
     "traceback": [
      "\u001b[1;31m---------------------------------------------------------------------------\u001b[0m",
      "\u001b[1;31mModuleNotFoundError\u001b[0m                       Traceback (most recent call last)",
      "\u001b[1;32m<ipython-input-275-e19eb3a86703>\u001b[0m in \u001b[0;36m<module>\u001b[1;34m\u001b[0m\n\u001b[1;32m----> 1\u001b[1;33m \u001b[1;32mfrom\u001b[0m \u001b[0msocial_media\u001b[0m \u001b[1;32mimport\u001b[0m \u001b[1;33m*\u001b[0m\u001b[1;33m\u001b[0m\u001b[1;33m\u001b[0m\u001b[0m\n\u001b[0m",
      "\u001b[1;31mModuleNotFoundError\u001b[0m: No module named 'social_media'"
     ]
    }
   ],
   "source": [
    "from social_media import *"
   ]
  },
  {
   "cell_type": "markdown",
   "metadata": {},
   "source": [
    "# Get Data"
   ]
  },
  {
   "cell_type": "markdown",
   "metadata": {},
   "source": [
    "## Get Subreddits"
   ]
  },
  {
   "cell_type": "code",
   "execution_count": 5,
   "metadata": {
    "ExecuteTime": {
     "end_time": "2019-11-02T19:18:42.165994Z",
     "start_time": "2019-11-02T19:18:42.090978Z"
    }
   },
   "outputs": [],
   "source": [
    "raw_data_path = '../data/raw'\n",
    "subreddit_file = 'subreddits_basic.csv'\n",
    "subreddit_path = os.path.join(raw_data_path, subreddit_file)"
   ]
  },
  {
   "cell_type": "code",
   "execution_count": 6,
   "metadata": {
    "ExecuteTime": {
     "end_time": "2019-11-02T19:18:42.381041Z",
     "start_time": "2019-11-02T19:18:42.315027Z"
    }
   },
   "outputs": [],
   "source": [
    "def format_cols(df):\n",
    "    df.columns = [col.strip().lower().replace(' ', '_') for col in df.columns]\n",
    "    return df\n",
    "\n",
    "def lowercase_cols(df, cols):\n",
    "    for col in cols:\n",
    "        df[col] = df[col].str.lower()\n",
    "    return df\n",
    "\n",
    "def col_to_datetime(df, col, unit='s'):\n",
    "    df[col] = pd.to_datetime(df[col], unit=unit)\n",
    "    return df\n",
    "\n",
    "def contains_str(df, col, _str, regex=True, match=False):\n",
    "    col_fmt = df[col].fillna(\"\").str\n",
    "    if match:\n",
    "        condition = col_fmt.match(_str)\n",
    "    else:\n",
    "        condition = col_fmt.contains(_str, regex=regex)\n",
    "    df = df.loc[condition]\n",
    "    return df\n",
    "\n",
    "def isin_col(df, col, strings):\n",
    "    str_list = [term.lower() for term in strings]\n",
    "    condition = df[col].isin(str_list)\n",
    "    return df.loc[condition]"
   ]
  },
  {
   "cell_type": "markdown",
   "metadata": {},
   "source": [
    "### Subreddit Sample"
   ]
  },
  {
   "cell_type": "code",
   "execution_count": 7,
   "metadata": {
    "ExecuteTime": {
     "end_time": "2019-11-02T19:18:50.872948Z",
     "start_time": "2019-11-02T19:18:43.570310Z"
    }
   },
   "outputs": [
    {
     "data": {
      "text/html": [
       "<div>\n",
       "<style scoped>\n",
       "    .dataframe tbody tr th:only-of-type {\n",
       "        vertical-align: middle;\n",
       "    }\n",
       "\n",
       "    .dataframe tbody tr th {\n",
       "        vertical-align: top;\n",
       "    }\n",
       "\n",
       "    .dataframe thead th {\n",
       "        text-align: right;\n",
       "    }\n",
       "</style>\n",
       "<table border=\"1\" class=\"dataframe\">\n",
       "  <thead>\n",
       "    <tr style=\"text-align: right;\">\n",
       "      <th></th>\n",
       "      <th>base10_id</th>\n",
       "      <th>created</th>\n",
       "      <th>name</th>\n",
       "      <th>subscribers</th>\n",
       "    </tr>\n",
       "    <tr>\n",
       "      <th>reddit_base36_id</th>\n",
       "      <th></th>\n",
       "      <th></th>\n",
       "      <th></th>\n",
       "      <th></th>\n",
       "    </tr>\n",
       "  </thead>\n",
       "  <tbody>\n",
       "    <tr>\n",
       "      <td>t5_vf2</td>\n",
       "      <td>40718.0</td>\n",
       "      <td>2006-01-19 19:49:21</td>\n",
       "      <td>nsfw</td>\n",
       "      <td>936786</td>\n",
       "    </tr>\n",
       "    <tr>\n",
       "      <td>t5_21n6</td>\n",
       "      <td>95442.0</td>\n",
       "      <td>2006-02-19 06:55:30</td>\n",
       "      <td>features</td>\n",
       "      <td>1396</td>\n",
       "    </tr>\n",
       "    <tr>\n",
       "      <td>t5_21nj</td>\n",
       "      <td>95455.0</td>\n",
       "      <td>2006-02-19 07:11:36</td>\n",
       "      <td>request</td>\n",
       "      <td>547</td>\n",
       "    </tr>\n",
       "    <tr>\n",
       "      <td>t5_21of</td>\n",
       "      <td>95487.0</td>\n",
       "      <td>2006-02-19 08:02:34</td>\n",
       "      <td>olympics</td>\n",
       "      <td>397323</td>\n",
       "    </tr>\n",
       "    <tr>\n",
       "      <td>t5_22i0</td>\n",
       "      <td>96552.0</td>\n",
       "      <td>2006-02-20 06:22:35</td>\n",
       "      <td>de</td>\n",
       "      <td>108579</td>\n",
       "    </tr>\n",
       "  </tbody>\n",
       "</table>\n",
       "</div>"
      ],
      "text/plain": [
       "                  base10_id             created      name subscribers\n",
       "reddit_base36_id                                                     \n",
       "t5_vf2              40718.0 2006-01-19 19:49:21      nsfw      936786\n",
       "t5_21n6             95442.0 2006-02-19 06:55:30  features        1396\n",
       "t5_21nj             95455.0 2006-02-19 07:11:36   request         547\n",
       "t5_21of             95487.0 2006-02-19 08:02:34  olympics      397323\n",
       "t5_22i0             96552.0 2006-02-20 06:22:35        de      108579"
      ]
     },
     "execution_count": 7,
     "metadata": {},
     "output_type": "execute_result"
    }
   ],
   "source": [
    "subreddit_data = (\n",
    "    pd.read_csv(subreddit_path)\n",
    "    .pipe(format_cols)\n",
    "    .rename(columns={'creation_epoch':'created', 'subreddit_name':'name', 'number_of_subscribers':'subscribers'})\n",
    "    .pipe(lowercase_cols, ['name'])\n",
    "    .pipe(col_to_datetime, 'created')\n",
    "    .set_index('reddit_base36_id')\n",
    ")\n",
    "\n",
    "subreddit_data.head()"
   ]
  },
  {
   "cell_type": "code",
   "execution_count": 8,
   "metadata": {
    "ExecuteTime": {
     "end_time": "2019-11-02T19:18:51.110002Z",
     "start_time": "2019-11-02T19:18:51.046988Z"
    }
   },
   "outputs": [],
   "source": [
    "def create_regex_filter(terms):\n",
    "    filt = terms[0].lower()\n",
    "    for term in terms:\n",
    "        filt += '|' + term.lower() \n",
    "    return filt"
   ]
  },
  {
   "cell_type": "code",
   "execution_count": 9,
   "metadata": {
    "ExecuteTime": {
     "end_time": "2019-11-02T19:18:51.299045Z",
     "start_time": "2019-11-02T19:18:51.240031Z"
    }
   },
   "outputs": [],
   "source": [
    "sr_list = [\n",
    "    'CryptoMarkets',\n",
    "    'BitcoinMarkets',\n",
    "    'CryptoCurrencyTrading',\n",
    "    'ethtrader',\n",
    "    'cryptotrading',\n",
    "    'CryptoCurrency',\n",
    "    'Bitcoin',\n",
    "    'Ethereum',\n",
    "    'BTC',\n",
    "    'litecointraders',\n",
    "]"
   ]
  },
  {
   "cell_type": "code",
   "execution_count": 10,
   "metadata": {
    "ExecuteTime": {
     "end_time": "2019-11-02T19:18:51.794155Z",
     "start_time": "2019-11-02T19:18:51.444078Z"
    }
   },
   "outputs": [],
   "source": [
    "filter_str = create_regex_filter(sr_list)\n",
    "crypto_subreddits = (\n",
    "    subreddit_data\n",
    "    .pipe(isin_col, 'name', sr_list)\n",
    "    .replace('None', 0)\n",
    "    .dropna()\n",
    "    .astype({'subscribers':int})\n",
    "    .sort_values('subscribers', ascending=False)\n",
    "    .head(30)\n",
    ")"
   ]
  },
  {
   "cell_type": "markdown",
   "metadata": {},
   "source": [
    "## Subreddit Responses"
   ]
  },
  {
   "cell_type": "code",
   "execution_count": 11,
   "metadata": {
    "ExecuteTime": {
     "end_time": "2019-11-02T19:18:53.692584Z",
     "start_time": "2019-11-02T19:18:53.619568Z"
    }
   },
   "outputs": [],
   "source": [
    "import datetime as dt\n",
    "from dateutil.relativedelta import relativedelta"
   ]
  },
  {
   "cell_type": "code",
   "execution_count": 13,
   "metadata": {
    "ExecuteTime": {
     "end_time": "2019-11-02T19:19:11.214066Z",
     "start_time": "2019-11-02T19:19:11.150052Z"
    }
   },
   "outputs": [
    {
     "data": {
      "text/plain": [
       "relativedelta(months=+6)"
      ]
     },
     "execution_count": 13,
     "metadata": {},
     "output_type": "execute_result"
    }
   ],
   "source": [
    "relativedelta(months=6, days=0)"
   ]
  },
  {
   "cell_type": "code",
   "execution_count": 15,
   "metadata": {
    "ExecuteTime": {
     "end_time": "2019-11-02T19:22:08.129545Z",
     "start_time": "2019-11-02T19:22:08.066530Z"
    }
   },
   "outputs": [
    {
     "data": {
      "text/plain": [
       "'2019-11-02 00:00:00'"
      ]
     },
     "execution_count": 15,
     "metadata": {},
     "output_type": "execute_result"
    }
   ],
   "source": [
    "str(dt.datetime(2019, 11, 2))"
   ]
  },
  {
   "cell_type": "markdown",
   "metadata": {},
   "source": [
    "## Get all Subreddit Data and Save to Disk"
   ]
  },
  {
   "cell_type": "code",
   "execution_count": 85,
   "metadata": {
    "ExecuteTime": {
     "end_time": "2019-11-09T17:54:50.379081Z",
     "start_time": "2019-11-09T17:54:50.289060Z"
    }
   },
   "outputs": [],
   "source": [
    "def get_start_end_date(months, days=0):\n",
    "    end_date = dt.datetime.utcnow()\n",
    "    start_date = end_date - relativedelta(months=months, days=days)\n",
    "    return start_date, end_date\n",
    "\n",
    "def format_date_str(dt):\n",
    "    return dt.strftime('%d%b%Y')\n",
    "\n",
    "def get_cache(subreddit, start_date, end_date):    \n",
    "    api = PushshiftAPI()\n",
    "    start_epoch=int(dt.datetime.timestamp(start_date))\n",
    "    end_epoch=int(dt.datetime.timestamp(end_date))\n",
    "    work = api.search_comments(\n",
    "    #     q = \"notch\",\n",
    "        subreddit = sr,\n",
    "        after= start_epoch,\n",
    "        before= end_epoch\n",
    "    )\n",
    "    cache = []\n",
    "    for c in work:\n",
    "        cache.append(c)\n",
    "    \n",
    "    return cache\n",
    "        \n",
    "def get_response_list(cache):\n",
    "    response_list = []\n",
    "    for i in trange(len(cache)):\n",
    "        response_dict = cache[i].d_\n",
    "        response_list.append(response_dict)\n",
    "    \n",
    "    return response_list\n",
    "    \n",
    "def get_response_df(response_list):\n",
    "    keep_cols = [\n",
    "        'author',\n",
    "        'author_flair_text',\n",
    "        'body',\n",
    "        'created_utc',\n",
    "        'is_submitter',\n",
    "        'score',\n",
    "        'no_follow',\n",
    "        'id',\n",
    "        'parent_id'   \n",
    "    ]\n",
    "    \n",
    "    response_df = (\n",
    "        pd.DataFrame(response_list)\n",
    "        .filter(keep_cols)\n",
    "        .pipe(lowercase_cols, ['body'])\n",
    "#         .pipe(remove_stopwords, 'body')\n",
    "#         .assign(body = lambda x: x['body'].apply(lambda x: _tokenize(x))) #tokenize\n",
    "\n",
    "    #     .pipe(remove_punctuation, ['body'])\n",
    "        .assign(created = lambda x: pd.to_datetime(x['created_utc'], unit='s'))\n",
    "        .set_index('id')\n",
    "    )\n",
    "    \n",
    "    return response_df"
   ]
  },
  {
   "cell_type": "code",
   "execution_count": 86,
   "metadata": {
    "ExecuteTime": {
     "end_time": "2019-11-09T18:34:51.373004Z",
     "start_time": "2019-11-09T17:54:52.220936Z"
    }
   },
   "outputs": [
    {
     "name": "stdout",
     "output_type": "stream",
     "text": [
      "Getting data from 09May2019 to 09Nov2019..\n"
     ]
    },
    {
     "data": {
      "application/vnd.jupyter.widget-view+json": {
       "model_id": "d217c0df976e4b21b00d9f4d93f2f862",
       "version_major": 2,
       "version_minor": 0
      },
      "text/plain": [
       "HBox(children=(IntProgress(value=0, max=10), HTML(value='')))"
      ]
     },
     "metadata": {},
     "output_type": "display_data"
    },
    {
     "name": "stderr",
     "output_type": "stream",
     "text": [
      "100%|████████████████████████████████| 17427/17427 [00:00<00:00, 792279.65it/s]\n",
      "100%|██████████████████████████████| 151596/151596 [00:00<00:00, 846716.03it/s]\n",
      "100%|██████████████████████████████████| 5361/5361 [00:00<00:00, 669993.85it/s]\n",
      "100%|██████████████████████████████| 166215/166215 [00:00<00:00, 818607.27it/s]\n",
      "100%|████████████████████████████████████| 539/539 [00:00<00:00, 538525.45it/s]\n",
      "100%|██████████████████████████████| 558133/558133 [00:00<00:00, 901466.11it/s]\n",
      "100%|██████████████████████████████| 527558/527558 [00:00<00:00, 864667.17it/s]\n",
      "100%|████████████████████████████████| 35338/35338 [00:00<00:00, 785112.85it/s]\n",
      "100%|██████████████████████████████| 226471/226471 [00:00<00:00, 817402.76it/s]\n",
      "100%|████████████████████████████████████| 455/455 [00:00<00:00, 454382.93it/s]\n"
     ]
    },
    {
     "name": "stdout",
     "output_type": "stream",
     "text": [
      "\n"
     ]
    }
   ],
   "source": [
    "start_date, end_date = get_start_end_date(months=6, days=0)\n",
    "start_str = format_date_str(start_date)\n",
    "end_str = format_date_str(end_date)\n",
    "\n",
    "print(f'Getting data from {start_str} to {end_str}..')\n",
    "\n",
    "cache_dict = {}\n",
    "for sr in tqdm(sr_list[:]):\n",
    "    # Get Data\n",
    "    cache = get_cache(sr, start_date, end_date)        \n",
    "    response_list = get_response_list(cache)\n",
    "    response_df = get_response_df(response_list)\n",
    "    \n",
    "    # Save Data\n",
    "    filename = f'r_{sr} response data {start_str}-{end_str}.csv'\n",
    "    save_path = os.path.join(raw_data_path, filename)\n",
    "    response_df.to_csv(save_path)"
   ]
  },
  {
   "cell_type": "markdown",
   "metadata": {},
   "source": [
    "# Exploratory Data Analysis"
   ]
  },
  {
   "cell_type": "markdown",
   "metadata": {},
   "source": [
    "### NLTK Imports"
   ]
  },
  {
   "cell_type": "code",
   "execution_count": 50,
   "metadata": {
    "ExecuteTime": {
     "end_time": "2019-11-09T16:30:12.334940Z",
     "start_time": "2019-11-09T16:30:11.874845Z"
    }
   },
   "outputs": [],
   "source": [
    "from nltk.corpus import stopwords\n",
    "from nltk.tokenize import RegexpTokenizer\n",
    "from nltk.stem import WordNetLemmatizer\n",
    "from nltk.stem.porter import PorterStemmer"
   ]
  },
  {
   "cell_type": "markdown",
   "metadata": {},
   "source": [
    "## NLP Functions"
   ]
  },
  {
   "cell_type": "code",
   "execution_count": 196,
   "metadata": {
    "ExecuteTime": {
     "end_time": "2019-11-09T23:26:05.740815Z",
     "start_time": "2019-11-09T23:26:05.651795Z"
    },
    "code_folding": []
   },
   "outputs": [],
   "source": [
    "import string\n",
    "\n",
    "def remove_punctuation(df, col):\n",
    "    punct = string.punctuation.replace('|', '') + '”' + '’'\n",
    "    transtab = str.maketrans(dict.fromkeys(punct, ''))\n",
    "    \n",
    "    translated = (\n",
    "        df[col]\n",
    "        .str.translate(transtab)\n",
    "        .replace('”|’', '', regex=True)\n",
    "    )\n",
    "    df[col] = translated\n",
    "    return df\n",
    "\n",
    "def _tokenize(x, remove_duplicates=True):\n",
    "    tokenizer = RegexpTokenizer(r'\\w+')\n",
    "    raw_tokens = tokenizer.tokenize(x)\n",
    "    tokens = set(raw_tokens) if remove_duplicates else raw_tokens\n",
    "    return list(tokens)\n",
    "\n",
    "def remove_stopwords2(text):\n",
    "    words = [w for w in text if w not in stopwords.words('english')]\n",
    "    return words\n",
    "\n",
    "def remove_stopwords(df, col):\n",
    "    to_remove = stopwords.words('english')\n",
    "    pat = r'\\b(?:{})\\b'.format('|'.join(to_remove))\n",
    "    df[col] = df[col].str.replace(pat, '', regex=True)\n",
    "    return df"
   ]
  },
  {
   "cell_type": "markdown",
   "metadata": {},
   "source": [
    "## Responses Summary Statistics"
   ]
  },
  {
   "cell_type": "code",
   "execution_count": 130,
   "metadata": {
    "ExecuteTime": {
     "end_time": "2019-11-09T20:24:53.470977Z",
     "start_time": "2019-11-09T20:24:53.384960Z"
    }
   },
   "outputs": [],
   "source": [
    "def clean_responses(response_df):\n",
    "    response_df = (\n",
    "        response_df\n",
    "        .query('body != \"[removed]\"')\n",
    "    )\n",
    "    return response_df\n",
    "\n",
    "def calc_posts_per_day(response_df):\n",
    "    posts_per_day = (\n",
    "        response_df\n",
    "        .groupby(pd.to_datetime(response_df['created']).dt.date)\n",
    "        .count()\n",
    "        .mean()\n",
    "        ['body']\n",
    "    )\n",
    "    return posts_per_day\n",
    "\n",
    "def calc_posts_per_parent(response_df):\n",
    "    posts_per_parent = (\n",
    "        response_df\n",
    "        .groupby('parent_id')\n",
    "        .count()\n",
    "        .mean()\n",
    "        ['body']\n",
    "    )\n",
    "    return posts_per_parent\n",
    "\n",
    "def get_author_counts(response_df, thresh=6):\n",
    "    author_counts = (\n",
    "        response_df\n",
    "        .query('author != \"[deleted]\"')['author']\n",
    "        .value_counts()\n",
    "        .pipe(lambda x: x[x>=thresh])\n",
    "    )\n",
    "    return author_counts\n",
    "\n",
    "def get_author_counts_norm(response_df, thresh=6):\n",
    "    author_counts = get_author_counts(response_df, thresh=thresh)\n",
    "    return author_counts / author_counts.sum()\n",
    "\n",
    "def hhi(array):\n",
    "    return np.square(array).sum()"
   ]
  },
  {
   "cell_type": "code",
   "execution_count": 305,
   "metadata": {
    "ExecuteTime": {
     "end_time": "2019-11-10T04:39:16.935183Z",
     "start_time": "2019-11-10T04:39:05.492426Z"
    }
   },
   "outputs": [
    {
     "data": {
      "application/vnd.jupyter.widget-view+json": {
       "model_id": "e3db4d4455634b6f84417febb679d6ba",
       "version_major": 2,
       "version_minor": 0
      },
      "text/plain": [
       "HBox(children=(IntProgress(value=0, max=10), HTML(value='')))"
      ]
     },
     "metadata": {},
     "output_type": "display_data"
    },
    {
     "name": "stdout",
     "output_type": "stream",
     "text": [
      "../data/raw\\r_CryptoMarkets response data 09May2019-09Nov2019.csv\n",
      "../data/raw\\r_BitcoinMarkets response data 09May2019-09Nov2019.csv\n",
      "../data/raw\\r_CryptoCurrencyTrading response data 09May2019-09Nov2019.csv\n",
      "../data/raw\\r_ethtrader response data 09May2019-09Nov2019.csv\n",
      "../data/raw\\r_cryptotrading response data 09May2019-09Nov2019.csv\n",
      "../data/raw\\r_CryptoCurrency response data 09May2019-09Nov2019.csv\n",
      "../data/raw\\r_Bitcoin response data 09May2019-09Nov2019.csv\n",
      "../data/raw\\r_Ethereum response data 09May2019-09Nov2019.csv\n",
      "../data/raw\\r_BTC response data 09May2019-09Nov2019.csv\n",
      "../data/raw\\r_litecointraders response data 09May2019-09Nov2019.csv\n",
      "\n"
     ]
    }
   ],
   "source": [
    "import ast\n",
    "\n",
    "summary_df = pd.DataFrame()\n",
    "total = 0\n",
    "for sr in tqdm(sr_list[:]):\n",
    "    filename = f'r_{sr} response data {start_str}-{end_str}.csv'\n",
    "    save_path = os.path.join(raw_data_path, filename)\n",
    "    print(save_path)\n",
    "    response_df = (\n",
    "        pd.read_csv(save_path, index_col=0)\n",
    "        .pipe(clean_responses)\n",
    "    )\n",
    "    \n",
    "    total += len(response_df)\n",
    "    \n",
    "    summary_stats = pd.Series({\n",
    "        'Posts per Day':calc_posts_per_day(response_df),\n",
    "        'Posts per Parent':calc_posts_per_parent(response_df),\n",
    "        'Unique Authors':len(response_df['author'].drop_duplicates()),\n",
    "        'HHI, Authors':hhi(get_author_counts_norm(response_df))\n",
    "    })\n",
    "    \n",
    "    summary_df[sr] = summary_stats"
   ]
  },
  {
   "cell_type": "code",
   "execution_count": 306,
   "metadata": {
    "ExecuteTime": {
     "end_time": "2019-11-10T04:39:17.841853Z",
     "start_time": "2019-11-10T04:39:17.755835Z"
    }
   },
   "outputs": [
    {
     "data": {
      "text/plain": [
       "1647871"
      ]
     },
     "execution_count": 306,
     "metadata": {},
     "output_type": "execute_result"
    }
   ],
   "source": [
    "total"
   ]
  },
  {
   "cell_type": "code",
   "execution_count": 178,
   "metadata": {
    "ExecuteTime": {
     "end_time": "2019-11-09T23:06:02.638232Z",
     "start_time": "2019-11-09T23:06:02.551221Z"
    }
   },
   "outputs": [],
   "source": [
    "summary_df.T.to_csv('../data/interim/EDA.csv')"
   ]
  },
  {
   "cell_type": "code",
   "execution_count": 171,
   "metadata": {
    "ExecuteTime": {
     "end_time": "2019-11-09T23:01:10.058096Z",
     "start_time": "2019-11-09T23:01:09.883065Z"
    }
   },
   "outputs": [
    {
     "data": {
      "text/plain": [
       "<matplotlib.axes._subplots.AxesSubplot at 0x1f27f8ea208>"
      ]
     },
     "execution_count": 171,
     "metadata": {},
     "output_type": "execute_result"
    },
    {
     "data": {
      "image/png": "[encoded data removed]",
      "text/plain": [
       "<Figure size 432x288 with 2 Axes>"
      ]
     },
     "metadata": {
      "needs_background": "light"
     },
     "output_type": "display_data"
    }
   ],
   "source": [
    "import seaborn as sns\n",
    "\n",
    "sns.heatmap(summary_df.T.corr('spearman'), cmap='RdYlGn')"
   ]
  },
  {
   "cell_type": "markdown",
   "metadata": {},
   "source": [
    "## Popular words"
   ]
  },
  {
   "cell_type": "code",
   "execution_count": 231,
   "metadata": {
    "ExecuteTime": {
     "end_time": "2019-11-09T23:59:23.186345Z",
     "start_time": "2019-11-09T23:57:56.783062Z"
    },
    "code_folding": [
     0
    ]
   },
   "outputs": [
    {
     "data": {
      "application/vnd.jupyter.widget-view+json": {
       "model_id": "ab09d226ec1e43c88fe0286ad2533f62",
       "version_major": 2,
       "version_minor": 0
      },
      "text/plain": [
       "HBox(children=(IntProgress(value=0, max=10), HTML(value='')))"
      ]
     },
     "metadata": {},
     "output_type": "display_data"
    },
    {
     "name": "stdout",
     "output_type": "stream",
     "text": [
      "../data/raw\\r_CryptoMarkets response data 09May2019-09Nov2019.csv\n",
      "../data/raw\\r_BitcoinMarkets response data 09May2019-09Nov2019.csv\n",
      "../data/raw\\r_CryptoCurrencyTrading response data 09May2019-09Nov2019.csv\n",
      "../data/raw\\r_ethtrader response data 09May2019-09Nov2019.csv\n",
      "../data/raw\\r_cryptotrading response data 09May2019-09Nov2019.csv\n",
      "../data/raw\\r_CryptoCurrency response data 09May2019-09Nov2019.csv\n",
      "../data/raw\\r_Bitcoin response data 09May2019-09Nov2019.csv\n",
      "../data/raw\\r_Ethereum response data 09May2019-09Nov2019.csv\n",
      "../data/raw\\r_BTC response data 09May2019-09Nov2019.csv\n",
      "../data/raw\\r_litecointraders response data 09May2019-09Nov2019.csv\n",
      "\n"
     ]
    }
   ],
   "source": [
    "drop_words = [\n",
    "    'also',\n",
    "    'https',             \n",
    "    'would',             \n",
    "    'make',              \n",
    "    'much',\n",
    "    'get',\n",
    "    'think',\n",
    "    'one',\n",
    "    'com',\n",
    "    'like',\n",
    "    'see',\n",
    "    'really',\n",
    "    'know',\n",
    "    'still',\n",
    "    'well',\n",
    "    'could',\n",
    "    'going',\n",
    "    'way',\n",
    "    'go',\n",
    "    '1',\n",
    "    'need',\n",
    "    'gt',\n",
    "    'many',\n",
    "    'www',\n",
    "    'want',\n",
    "    'sure',\n",
    "    '2',\n",
    "    'r',\n",
    "    'back',\n",
    "    'thanks',\n",
    "    'reddit',\n",
    "    '0',\n",
    "    'something',\n",
    "    'actually',\n",
    "    'next',\n",
    "    'day',\n",
    "    'say',\n",
    "    'lol',\n",
    "    '10',\n",
    "    'take',\n",
    "    'us',\n",
    "    'days',\n",
    "]\n",
    "\n",
    "popular_words = pd.DataFrame()\n",
    "for sr in tqdm(sr_list[:]):\n",
    "    filename = f'r_{sr} response data {start_str}-{end_str}.csv'\n",
    "    save_path = os.path.join(raw_data_path, filename)\n",
    "    print(save_path)\n",
    "    response_df = (\n",
    "        pd.read_csv(save_path, index_col=0)\n",
    "        .pipe(clean_responses)\n",
    "        .dropna(subset=['body'])\n",
    "        .pipe(remove_stopwords, 'body')\n",
    "        .assign(body = lambda x: x['body'].apply(lambda x: _tokenize(x))) #tokenize\n",
    "#         .pipe(remove_punctuation, 'body')\n",
    "    )\n",
    "    flattened = pd.Series([item for sublist in response_df['body'] for item in sublist])\n",
    "    flattened = flattened[~flattened.isin(drop_words)]\n",
    "    popular_words[sr] = flattened.value_counts()[:50].index"
   ]
  },
  {
   "cell_type": "code",
   "execution_count": 251,
   "metadata": {
    "ExecuteTime": {
     "end_time": "2019-11-10T00:28:48.534045Z",
     "start_time": "2019-11-10T00:28:48.448027Z"
    }
   },
   "outputs": [],
   "source": [
    "def rename_index(df, name):\n",
    "    df.index.name = name\n",
    "    return df"
   ]
  },
  {
   "cell_type": "code",
   "execution_count": 255,
   "metadata": {
    "ExecuteTime": {
     "end_time": "2019-11-10T00:37:56.654504Z",
     "start_time": "2019-11-10T00:37:56.564493Z"
    }
   },
   "outputs": [],
   "source": [
    "popular_words.pipe(rename_index, 'rank').iloc[:20, 5:].to_csv('../data/interim/top_20_words_2.csv')"
   ]
  },
  {
   "cell_type": "code",
   "execution_count": 286,
   "metadata": {
    "ExecuteTime": {
     "end_time": "2019-11-10T01:14:38.867790Z",
     "start_time": "2019-11-10T01:14:38.779771Z"
    }
   },
   "outputs": [],
   "source": [
    "import matplotlib.pyplot as plt\n",
    "from matplotlib.ticker import ScalarFormatter, AutoMinorLocator\n",
    "import matplotlib as mpl\n",
    "\n",
    "ref_path = '../references'\n",
    "fig_path = '../reports/figures'\n",
    "plt.style.use(os.path.join(ref_path, 'PaperDoubleFig.mplstyle'))\n",
    "dashesStyles = [[3,1],\n",
    "            [1000,1],\n",
    "            [2,1,10,1],\n",
    "            [4, 1, 1, 1, 1, 1]]"
   ]
  },
  {
   "cell_type": "markdown",
   "metadata": {},
   "source": [
    "### Visualize Results"
   ]
  },
  {
   "cell_type": "code",
   "execution_count": 287,
   "metadata": {
    "ExecuteTime": {
     "end_time": "2019-11-10T01:14:40.026051Z",
     "start_time": "2019-11-10T01:14:39.629962Z"
    }
   },
   "outputs": [
    {
     "data": {
      "text/plain": [
       "<BarContainer object of 20 artists>"
      ]
     },
     "execution_count": 287,
     "metadata": {},
     "output_type": "execute_result"
    },
    {
     "data": {
      "text/plain": [
       "Text(0.5, 0, '')"
      ]
     },
     "execution_count": 287,
     "metadata": {},
     "output_type": "execute_result"
    },
    {
     "data": {
      "text/plain": [
       "Text(0.5, 1.0, \"Occurrences in Subreddits' Top 50\")"
      ]
     },
     "execution_count": 287,
     "metadata": {},
     "output_type": "execute_result"
    },
    {
     "data": {
      "image/png": "[encoded data removed]",
      "text/plain": [
       "<Figure size 518.4x320.4 with 1 Axes>"
      ]
     },
     "metadata": {
      "needs_background": "light"
     },
     "output_type": "display_data"
    }
   ],
   "source": [
    "fig, ax = plt.subplots()\n",
    "pop_word_counts = popular_words.melt()['value'].value_counts()[:20].sort_values()\n",
    "ax.barh(pop_word_counts.index, pop_word_counts.values)\n",
    "name_of_plot = 'Occurrences in Subreddits\\' Top 50'\n",
    "ax.set_xlabel('')\n",
    "ax.yaxis.major.formatter._useMathText = True\n",
    "# ax.yaxis.set_label_coords(0.63,1.01)\n",
    "\n",
    "ax.set_title(name_of_plot, fontsize=15, rotation=0)\n",
    "\n",
    "fig.tight_layout()\n",
    "savefig_path = os.path.join(fig_path, name_of_plot)\n",
    "fig.savefig(savefig_path,dpi=300)\n",
    "plt.show()"
   ]
  },
  {
   "cell_type": "code",
   "execution_count": 217,
   "metadata": {
    "ExecuteTime": {
     "end_time": "2019-11-09T23:39:11.516145Z",
     "start_time": "2019-11-09T23:39:11.424133Z"
    }
   },
   "outputs": [
    {
     "data": {
      "text/html": [
       "<div>\n",
       "<style scoped>\n",
       "    .dataframe tbody tr th:only-of-type {\n",
       "        vertical-align: middle;\n",
       "    }\n",
       "\n",
       "    .dataframe tbody tr th {\n",
       "        vertical-align: top;\n",
       "    }\n",
       "\n",
       "    .dataframe thead th {\n",
       "        text-align: right;\n",
       "    }\n",
       "</style>\n",
       "<table border=\"1\" class=\"dataframe\">\n",
       "  <thead>\n",
       "    <tr style=\"text-align: right;\">\n",
       "      <th></th>\n",
       "      <th>CryptoMarkets</th>\n",
       "      <th>BitcoinMarkets</th>\n",
       "      <th>CryptoCurrencyTrading</th>\n",
       "      <th>ethtrader</th>\n",
       "      <th>cryptotrading</th>\n",
       "      <th>CryptoCurrency</th>\n",
       "      <th>Bitcoin</th>\n",
       "      <th>Ethereum</th>\n",
       "      <th>BTC</th>\n",
       "      <th>litecointraders</th>\n",
       "    </tr>\n",
       "  </thead>\n",
       "  <tbody>\n",
       "    <tr>\n",
       "      <td>0</td>\n",
       "      <td>like</td>\n",
       "      <td>like</td>\n",
       "      <td>good</td>\n",
       "      <td>eth</td>\n",
       "      <td>project</td>\n",
       "      <td>like</td>\n",
       "      <td>bitcoin</td>\n",
       "      <td>like</td>\n",
       "      <td>bitcoin</td>\n",
       "      <td>think</td>\n",
       "    </tr>\n",
       "    <tr>\n",
       "      <td>1</td>\n",
       "      <td>crypto</td>\n",
       "      <td>bitcoin</td>\n",
       "      <td>crypto</td>\n",
       "      <td>like</td>\n",
       "      <td>curioinvest</td>\n",
       "      <td>bitcoin</td>\n",
       "      <td>like</td>\n",
       "      <td>ethereum</td>\n",
       "      <td>bch</td>\n",
       "      <td>ltc</td>\n",
       "    </tr>\n",
       "    <tr>\n",
       "      <td>2</td>\n",
       "      <td>people</td>\n",
       "      <td>btc</td>\n",
       "      <td>project</td>\n",
       "      <td>would</td>\n",
       "      <td>great</td>\n",
       "      <td>people</td>\n",
       "      <td>people</td>\n",
       "      <td>would</td>\n",
       "      <td>btc</td>\n",
       "      <td>btc</td>\n",
       "    </tr>\n",
       "    <tr>\n",
       "      <td>3</td>\n",
       "      <td>bitcoin</td>\n",
       "      <td>think</td>\n",
       "      <td>like</td>\n",
       "      <td>think</td>\n",
       "      <td>platform</td>\n",
       "      <td>https</td>\n",
       "      <td>would</td>\n",
       "      <td>https</td>\n",
       "      <td>gt</td>\n",
       "      <td>like</td>\n",
       "    </tr>\n",
       "    <tr>\n",
       "      <td>4</td>\n",
       "      <td>one</td>\n",
       "      <td>time</td>\n",
       "      <td>https</td>\n",
       "      <td>people</td>\n",
       "      <td>com</td>\n",
       "      <td>btc</td>\n",
       "      <td>https</td>\n",
       "      <td>eth</td>\n",
       "      <td>like</td>\n",
       "      <td>market</td>\n",
       "    </tr>\n",
       "    <tr>\n",
       "      <td>...</td>\n",
       "      <td>...</td>\n",
       "      <td>...</td>\n",
       "      <td>...</td>\n",
       "      <td>...</td>\n",
       "      <td>...</td>\n",
       "      <td>...</td>\n",
       "      <td>...</td>\n",
       "      <td>...</td>\n",
       "      <td>...</td>\n",
       "      <td>...</td>\n",
       "    </tr>\n",
       "    <tr>\n",
       "      <td>45</td>\n",
       "      <td>exchange</td>\n",
       "      <td>point</td>\n",
       "      <td>much</td>\n",
       "      <td>www</td>\n",
       "      <td>everyone</td>\n",
       "      <td>contact</td>\n",
       "      <td>market</td>\n",
       "      <td>sure</td>\n",
       "      <td>2</td>\n",
       "      <td>year</td>\n",
       "    </tr>\n",
       "    <tr>\n",
       "      <td>46</td>\n",
       "      <td>better</td>\n",
       "      <td>since</td>\n",
       "      <td>system</td>\n",
       "      <td>sure</td>\n",
       "      <td>opportunity</td>\n",
       "      <td>automatically</td>\n",
       "      <td>say</td>\n",
       "      <td>network</td>\n",
       "      <td>many</td>\n",
       "      <td>drop</td>\n",
       "    </tr>\n",
       "    <tr>\n",
       "      <td>47</td>\n",
       "      <td>many</td>\n",
       "      <td>got</td>\n",
       "      <td>users</td>\n",
       "      <td>years</td>\n",
       "      <td>think</td>\n",
       "      <td>concerns</td>\n",
       "      <td>many</td>\n",
       "      <td>bitcoin</td>\n",
       "      <td>using</td>\n",
       "      <td>make</td>\n",
       "    </tr>\n",
       "    <tr>\n",
       "      <td>48</td>\n",
       "      <td>sure</td>\n",
       "      <td>day</td>\n",
       "      <td>already</td>\n",
       "      <td>take</td>\n",
       "      <td>users</td>\n",
       "      <td>1</td>\n",
       "      <td>reddit</td>\n",
       "      <td>better</td>\n",
       "      <td>go</td>\n",
       "      <td>prices</td>\n",
       "    </tr>\n",
       "    <tr>\n",
       "      <td>49</td>\n",
       "      <td>lot</td>\n",
       "      <td>bull</td>\n",
       "      <td>work</td>\n",
       "      <td>something</td>\n",
       "      <td>know</td>\n",
       "      <td>moderators</td>\n",
       "      <td>using</td>\n",
       "      <td>actually</td>\n",
       "      <td>0</td>\n",
       "      <td>10</td>\n",
       "    </tr>\n",
       "  </tbody>\n",
       "</table>\n",
       "<p>50 rows × 10 columns</p>\n",
       "</div>"
      ],
      "text/plain": [
       "   CryptoMarkets BitcoinMarkets CryptoCurrencyTrading  ethtrader  \\\n",
       "0           like           like                  good        eth   \n",
       "1         crypto        bitcoin                crypto       like   \n",
       "2         people            btc               project      would   \n",
       "3        bitcoin          think                  like      think   \n",
       "4            one           time                 https     people   \n",
       "..           ...            ...                   ...        ...   \n",
       "45      exchange          point                  much        www   \n",
       "46        better          since                system       sure   \n",
       "47          many            got                 users      years   \n",
       "48          sure            day               already       take   \n",
       "49           lot           bull                  work  something   \n",
       "\n",
       "   cryptotrading CryptoCurrency  Bitcoin  Ethereum      BTC litecointraders  \n",
       "0        project           like  bitcoin      like  bitcoin           think  \n",
       "1    curioinvest        bitcoin     like  ethereum      bch             ltc  \n",
       "2          great         people   people     would      btc             btc  \n",
       "3       platform          https    would     https       gt            like  \n",
       "4            com            btc    https       eth     like          market  \n",
       "..           ...            ...      ...       ...      ...             ...  \n",
       "45      everyone        contact   market      sure        2            year  \n",
       "46   opportunity  automatically      say   network     many            drop  \n",
       "47         think       concerns     many   bitcoin    using            make  \n",
       "48         users              1   reddit    better       go          prices  \n",
       "49          know     moderators    using  actually        0              10  \n",
       "\n",
       "[50 rows x 10 columns]"
      ]
     },
     "execution_count": 217,
     "metadata": {},
     "output_type": "execute_result"
    }
   ],
   "source": [
    "popular_words"
   ]
  },
  {
   "cell_type": "markdown",
   "metadata": {},
   "source": [
    "# Sentiment Analysis"
   ]
  },
  {
   "cell_type": "markdown",
   "metadata": {
    "ExecuteTime": {
     "end_time": "2019-11-09T19:46:12.869555Z",
     "start_time": "2019-11-09T19:46:12.774533Z"
    }
   },
   "source": [
    "## User-defined list of words"
   ]
  },
  {
   "cell_type": "code",
   "execution_count": 278,
   "metadata": {
    "ExecuteTime": {
     "end_time": "2019-11-10T01:08:07.241095Z",
     "start_time": "2019-11-10T01:08:07.154077Z"
    }
   },
   "outputs": [],
   "source": [
    "def isin_col(df, col, strings):\n",
    "    str_list = [term.lower() for term in strings]\n",
    "    p = r\"\\b(?:{})\\b\".format(\"|\".join(map(re.escape, strings)))\n",
    "    condition = df[col].str.contains(p)\n",
    "    return df.loc[condition]\n"
   ]
  },
  {
   "cell_type": "code",
   "execution_count": 282,
   "metadata": {
    "ExecuteTime": {
     "end_time": "2019-11-10T01:09:59.806136Z",
     "start_time": "2019-11-10T01:09:36.690952Z"
    }
   },
   "outputs": [
    {
     "data": {
      "application/vnd.jupyter.widget-view+json": {
       "model_id": "7c1459256d3e4d17867e0d34fc267356",
       "version_major": 2,
       "version_minor": 0
      },
      "text/plain": [
       "HBox(children=(IntProgress(value=0, max=10), HTML(value='')))"
      ]
     },
     "metadata": {},
     "output_type": "display_data"
    },
    {
     "name": "stdout",
     "output_type": "stream",
     "text": [
      "../data/raw\\r_CryptoMarkets response data 09May2019-09Nov2019.csv\n",
      "../data/raw\\r_BitcoinMarkets response data 09May2019-09Nov2019.csv\n",
      "../data/raw\\r_CryptoCurrencyTrading response data 09May2019-09Nov2019.csv\n",
      "../data/raw\\r_ethtrader response data 09May2019-09Nov2019.csv\n",
      "../data/raw\\r_cryptotrading response data 09May2019-09Nov2019.csv\n",
      "../data/raw\\r_CryptoCurrency response data 09May2019-09Nov2019.csv\n",
      "../data/raw\\r_Bitcoin response data 09May2019-09Nov2019.csv\n",
      "../data/raw\\r_Ethereum response data 09May2019-09Nov2019.csv\n",
      "../data/raw\\r_BTC response data 09May2019-09Nov2019.csv\n",
      "../data/raw\\r_litecointraders response data 09May2019-09Nov2019.csv\n",
      "\n"
     ]
    }
   ],
   "source": [
    "bull_words = [\n",
    "    'buy',\n",
    "    'bullish',\n",
    "    'bull',\n",
    "    'long',\n",
    "    'pump',\n",
    "    'moon',\n",
    "    'fomo',\n",
    "    'bid',\n",
    "]\n",
    "\n",
    "bear_words = [\n",
    "    'sell',\n",
    "    'bear',\n",
    "    'bearish',\n",
    "    'short',\n",
    "    'dump',\n",
    "    'nuke',\n",
    "    'nook',\n",
    "    'doom',\n",
    "    'fud',\n",
    "    'puke',\n",
    "]\n",
    "\n",
    "sentiment_words = pd.DataFrame()\n",
    "for sr in tqdm(sr_list[:]):\n",
    "    filename = f'r_{sr} response data {start_str}-{end_str}.csv'\n",
    "    save_path = os.path.join(raw_data_path, filename)\n",
    "    print(save_path)\n",
    "    response_df = (\n",
    "        pd.read_csv(save_path, index_col=0)\n",
    "        .pipe(clean_responses)\n",
    "        .dropna(subset=['body'])\n",
    "    )\n",
    "    \n",
    "    bull_df = response_df.pipe(isin_col, 'body', bull_words)\n",
    "    bull_perc = len(bull_df) / len(response_df)    \n",
    "    \n",
    "    bear_df = response_df.pipe(isin_col, 'body', bear_words)\n",
    "    bear_perc = len(bear_df) / len(response_df)\n",
    "    \n",
    "    sentiment_words[sr] = pd.Series({'Bull %':bull_perc, 'Bear %':bear_perc})"
   ]
  },
  {
   "cell_type": "code",
   "execution_count": 300,
   "metadata": {
    "ExecuteTime": {
     "end_time": "2019-11-10T01:27:26.756981Z",
     "start_time": "2019-11-10T01:27:26.667969Z"
    }
   },
   "outputs": [],
   "source": [
    "# sentiment_words = sentiment_words.T\n",
    "sentiment_words['Difference'] = np.log(sentiment_words['Bull %']) - np.log(sentiment_words['Bear %'])\n",
    "sentiment_words.sort_values('Difference', inplace=True)"
   ]
  },
  {
   "cell_type": "code",
   "execution_count": 301,
   "metadata": {
    "ExecuteTime": {
     "end_time": "2019-11-10T01:27:31.343244Z",
     "start_time": "2019-11-10T01:27:31.253231Z"
    }
   },
   "outputs": [
    {
     "data": {
      "text/html": [
       "<div>\n",
       "<style scoped>\n",
       "    .dataframe tbody tr th:only-of-type {\n",
       "        vertical-align: middle;\n",
       "    }\n",
       "\n",
       "    .dataframe tbody tr th {\n",
       "        vertical-align: top;\n",
       "    }\n",
       "\n",
       "    .dataframe thead th {\n",
       "        text-align: right;\n",
       "    }\n",
       "</style>\n",
       "<table border=\"1\" class=\"dataframe\">\n",
       "  <thead>\n",
       "    <tr style=\"text-align: right;\">\n",
       "      <th></th>\n",
       "      <th>Bull %</th>\n",
       "      <th>Bear %</th>\n",
       "      <th>Difference</th>\n",
       "    </tr>\n",
       "  </thead>\n",
       "  <tbody>\n",
       "    <tr>\n",
       "      <td>litecointraders</td>\n",
       "      <td>0.292079</td>\n",
       "      <td>0.215347</td>\n",
       "      <td>0.304777</td>\n",
       "    </tr>\n",
       "    <tr>\n",
       "      <td>BitcoinMarkets</td>\n",
       "      <td>0.154484</td>\n",
       "      <td>0.110521</td>\n",
       "      <td>0.334889</td>\n",
       "    </tr>\n",
       "    <tr>\n",
       "      <td>CryptoMarkets</td>\n",
       "      <td>0.073852</td>\n",
       "      <td>0.039664</td>\n",
       "      <td>0.621629</td>\n",
       "    </tr>\n",
       "    <tr>\n",
       "      <td>CryptoCurrency</td>\n",
       "      <td>0.088425</td>\n",
       "      <td>0.045192</td>\n",
       "      <td>0.671246</td>\n",
       "    </tr>\n",
       "    <tr>\n",
       "      <td>ethtrader</td>\n",
       "      <td>0.093228</td>\n",
       "      <td>0.045377</td>\n",
       "      <td>0.720034</td>\n",
       "    </tr>\n",
       "    <tr>\n",
       "      <td>Ethereum</td>\n",
       "      <td>0.049642</td>\n",
       "      <td>0.023802</td>\n",
       "      <td>0.735094</td>\n",
       "    </tr>\n",
       "    <tr>\n",
       "      <td>Bitcoin</td>\n",
       "      <td>0.092883</td>\n",
       "      <td>0.041833</td>\n",
       "      <td>0.797647</td>\n",
       "    </tr>\n",
       "    <tr>\n",
       "      <td>BTC</td>\n",
       "      <td>0.051465</td>\n",
       "      <td>0.023099</td>\n",
       "      <td>0.801104</td>\n",
       "    </tr>\n",
       "    <tr>\n",
       "      <td>CryptoCurrencyTrading</td>\n",
       "      <td>0.077436</td>\n",
       "      <td>0.031405</td>\n",
       "      <td>0.902497</td>\n",
       "    </tr>\n",
       "    <tr>\n",
       "      <td>cryptotrading</td>\n",
       "      <td>0.069530</td>\n",
       "      <td>0.020450</td>\n",
       "      <td>1.223775</td>\n",
       "    </tr>\n",
       "  </tbody>\n",
       "</table>\n",
       "</div>"
      ],
      "text/plain": [
       "                         Bull %    Bear %  Difference\n",
       "litecointraders        0.292079  0.215347    0.304777\n",
       "BitcoinMarkets         0.154484  0.110521    0.334889\n",
       "CryptoMarkets          0.073852  0.039664    0.621629\n",
       "CryptoCurrency         0.088425  0.045192    0.671246\n",
       "ethtrader              0.093228  0.045377    0.720034\n",
       "Ethereum               0.049642  0.023802    0.735094\n",
       "Bitcoin                0.092883  0.041833    0.797647\n",
       "BTC                    0.051465  0.023099    0.801104\n",
       "CryptoCurrencyTrading  0.077436  0.031405    0.902497\n",
       "cryptotrading          0.069530  0.020450    1.223775"
      ]
     },
     "execution_count": 301,
     "metadata": {},
     "output_type": "execute_result"
    }
   ],
   "source": [
    "sentiment_words"
   ]
  },
  {
   "cell_type": "markdown",
   "metadata": {},
   "source": [
    "### Visualize Results"
   ]
  },
  {
   "cell_type": "code",
   "execution_count": 304,
   "metadata": {
    "ExecuteTime": {
     "end_time": "2019-11-10T01:30:26.874512Z",
     "start_time": "2019-11-10T01:30:26.604460Z"
    }
   },
   "outputs": [
    {
     "data": {
      "text/plain": [
       "<matplotlib.axes._subplots.AxesSubplot at 0x1f23ecb2a88>"
      ]
     },
     "execution_count": 304,
     "metadata": {},
     "output_type": "execute_result"
    },
    {
     "data": {
      "text/plain": [
       "Text(0.5, 0, '')"
      ]
     },
     "execution_count": 304,
     "metadata": {},
     "output_type": "execute_result"
    },
    {
     "data": {
      "text/plain": [
       "[Text(0, 0, 'litecointraders'),\n",
       " Text(0, 0, 'BitcoinMarkets'),\n",
       " Text(0, 0, 'CryptoMarkets'),\n",
       " Text(0, 0, 'CryptoCurrency'),\n",
       " Text(0, 0, 'ethtrader'),\n",
       " Text(0, 0, 'Ethereum'),\n",
       " Text(0, 0, 'Bitcoin'),\n",
       " Text(0, 0, 'BTC'),\n",
       " Text(0, 0, 'CryptoCurrencyTrading'),\n",
       " Text(0, 0, 'cryptotrading')]"
      ]
     },
     "execution_count": 304,
     "metadata": {},
     "output_type": "execute_result"
    },
    {
     "data": {
      "image/png": "[encoded data removed]",
      "text/plain": [
       "<Figure size 518.4x320.4 with 1 Axes>"
      ]
     },
     "metadata": {
      "needs_background": "light"
     },
     "output_type": "display_data"
    }
   ],
   "source": [
    "import matplotlib.ticker as mtick\n",
    "\n",
    "fig, ax = plt.subplots()\n",
    "\n",
    "sentiment_words.iloc[:, :2].plot(kind='bar', ax=ax)\n",
    "name_of_plot = 'bull_bear_by_subreddit'\n",
    "ax.set_xlabel('')\n",
    "ax.set_xticklabels(sentiment_words.index, rotation = 45, ha=\"right\")\n",
    "ax.yaxis.set_major_formatter(mtick.PercentFormatter(1))\n",
    "ax.yaxis.major.formatter._useMathText = True\n",
    "# ax.yaxis.set_label_coords(0.63,1.01)\n",
    "\n",
    "# ax.set_title(name_of_plot, fontsize=15, rotation=0)\n",
    "\n",
    "fig.tight_layout()\n",
    "savefig_path = os.path.join(fig_path, name_of_plot+'.pdf')\n",
    "fig.savefig(savefig_path, dpi=300)\n",
    "plt.show()"
   ]
  },
  {
   "cell_type": "markdown",
   "metadata": {},
   "source": [
    "## Correlation with Price"
   ]
  },
  {
   "cell_type": "code",
   "execution_count": null,
   "metadata": {},
   "outputs": [],
   "source": [
    "sentiment_words = pd.DataFrame()\n",
    "for sr in tqdm(sr_list[:]):\n",
    "    filename = f'r_{sr} response data {start_str}-{end_str}.csv'\n",
    "    save_path = os.path.join(raw_data_path, filename)\n",
    "    print(save_path)\n",
    "    response_df = (\n",
    "        pd.read_csv(save_path, index_col=0)\n",
    "        .pipe(clean_responses)\n",
    "        .dropna(subset=['body'])\n",
    "    )\n",
    "    \n",
    "    bull_df = response_df.pipe(isin_col, 'body', bull_words)\n",
    "    bull_perc = len(bull_df) / len(response_df)    \n",
    "    \n",
    "    bear_df = response_df.pipe(isin_col, 'body', bear_words)\n",
    "    bear_perc = len(bear_df) / len(response_df)\n",
    "    \n",
    "    sentiment_words[sr] = pd.Series({'Bull %':bull_perc, 'Bear %':bear_perc})"
   ]
  }
 ],
 "metadata": {
  "kernelspec": {
   "display_name": "Python 3",
   "language": "python",
   "name": "python3"
  },
  "language_info": {
   "codemirror_mode": {
    "name": "ipython",
    "version": 3
   },
   "file_extension": ".py",
   "mimetype": "text/x-python",
   "name": "python",
   "nbconvert_exporter": "python",
   "pygments_lexer": "ipython3",
   "version": "3.7.4"
  },
  "toc": {
   "base_numbering": 1,
   "nav_menu": {},
   "number_sections": true,
   "sideBar": true,
   "skip_h1_title": false,
   "title_cell": "Table of Contents",
   "title_sidebar": "Contents",
   "toc_cell": false,
   "toc_position": {
    "height": "calc(100% - 180px)",
    "left": "10px",
    "top": "150px",
    "width": "384px"
   },
   "toc_section_display": true,
   "toc_window_display": true
  },
  "varInspector": {
   "cols": {
    "lenName": 16,
    "lenType": 16,
    "lenVar": 40
   },
   "kernels_config": {
    "python": {
     "delete_cmd_postfix": "",
     "delete_cmd_prefix": "del ",
     "library": "var_list.py",
     "varRefreshCmd": "print(var_dic_list())"
    },
    "r": {
     "delete_cmd_postfix": ") ",
     "delete_cmd_prefix": "rm(",
     "library": "var_list.r",
     "varRefreshCmd": "cat(var_dic_list()) "
    }
   },
   "types_to_exclude": [
    "module",
    "function",
    "builtin_function_or_method",
    "instance",
    "_Feature"
   ],
   "window_display": false
  }
 },
 "nbformat": 4,
 "nbformat_minor": 2
}
